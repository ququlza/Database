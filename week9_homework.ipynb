{
  "nbformat": 4,
  "nbformat_minor": 0,
  "metadata": {
    "colab": {
      "provenance": [],
      "authorship_tag": "ABX9TyOHFegZuvUth8V8v3p/d5Co",
      "include_colab_link": true
    },
    "kernelspec": {
      "name": "python3",
      "display_name": "Python 3"
    },
    "language_info": {
      "name": "python"
    }
  },
  "cells": [
    {
      "cell_type": "markdown",
      "metadata": {
        "id": "view-in-github",
        "colab_type": "text"
      },
      "source": [
        "<a href=\"https://colab.research.google.com/github/ququlza/Database/blob/main/week9_homework.ipynb\" target=\"_parent\"><img src=\"https://colab.research.google.com/assets/colab-badge.svg\" alt=\"Open In Colab\"/></a>"
      ]
    },
    {
      "cell_type": "code",
      "execution_count": null,
      "metadata": {
        "id": "9WbK0TClR-Y7"
      },
      "outputs": [],
      "source": [
        "r_set = my_conn.execute('''select courseid, decode(name, null, name, '-') as name\n",
        "from teach natural left outer JOIN instructor\n",
        "WHERE semester = 'spring' ''')\n",
        "for row in r_set:\n",
        "  print(row)"
      ]
    },
    {
      "cell_type": "code",
      "source": [
        "wr_set = my_conn.execute('''select dept_name, count(name) as 'instructor coutnt'\n",
        "from instructor\n",
        "group by dept_name''')\n",
        "for row in r_set:\n",
        "  print(row)"
      ],
      "metadata": {
        "id": "EMk-Z5xsSCkj"
      },
      "execution_count": null,
      "outputs": []
    }
  ]
}