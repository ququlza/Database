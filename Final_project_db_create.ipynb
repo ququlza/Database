{
  "nbformat": 4,
  "nbformat_minor": 0,
  "metadata": {
    "colab": {
      "provenance": [],
      "include_colab_link": true
    },
    "kernelspec": {
      "name": "python3",
      "display_name": "Python 3"
    },
    "language_info": {
      "name": "python"
    }
  },
  "cells": [
    {
      "cell_type": "markdown",
      "metadata": {
        "id": "view-in-github",
        "colab_type": "text"
      },
      "source": [
        "<a href=\"https://colab.research.google.com/github/ququlza/Database/blob/main/Final_project_db_create.ipynb\" target=\"_parent\"><img src=\"https://colab.research.google.com/assets/colab-badge.svg\" alt=\"Open In Colab\"/></a>"
      ]
    },
    {
      "cell_type": "code",
      "execution_count": null,
      "metadata": {
        "id": "Ozuf97AI4MWg"
      },
      "outputs": [],
      "source": [
        "import sqlite3 as sl\n",
        "con = sl.connect('db.db')"
      ]
    },
    {
      "cell_type": "code",
      "source": [
        "with con:\n",
        "  con.execute('''\n",
        "  CREATE TABLE `user` (\n",
        "\t`id`\tInteger\tNOT NULL primary key autoincrement,\n",
        "\t`name`\ttext\tNULL,\n",
        "\t`address`\ttext\tNULL,\n",
        "\t`telnum`\tstring\tNULL,\n",
        "\t`enroll_date`\ttext\tNULL\n",
        ");\n",
        "  ''')"
      ],
      "metadata": {
        "id": "f0EkGTq04RUA"
      },
      "execution_count": null,
      "outputs": []
    },
    {
      "cell_type": "code",
      "source": [
        "with con:\n",
        "  con.execute('''\n",
        "CREATE TABLE `seller` (\n",
        "\t`id`\tinteger\tNOT NULL primary key autoincrement,\n",
        "\t`user_id`\tinteger\tNOT NULL,\n",
        "  FOREIGN KEY (user_id)\n",
        "       REFERENCES user (id)\n",
        ");\n",
        "  ''')"
      ],
      "metadata": {
        "id": "h8x-oiG84TyQ"
      },
      "execution_count": null,
      "outputs": []
    },
    {
      "cell_type": "code",
      "source": [
        "with con:\n",
        "  con.execute('''\n",
        "CREATE TABLE `customer` (\n",
        "\t`id`\tinteger\tNOT NULL primary key autoincrement,\n",
        "\t`user_id`\tinteger\tNOT NULL,\n",
        "  FOREIGN KEY (user_id)\n",
        "       REFERENCES user (id)\n",
        ");\n",
        "  ''')"
      ],
      "metadata": {
        "id": "RwAGcTJr4Y9E"
      },
      "execution_count": null,
      "outputs": []
    },
    {
      "cell_type": "code",
      "source": [
        "with con:\n",
        "  con.execute('''\n",
        "CREATE TABLE `payment` (\n",
        "\t`id`\tinteger\tNOT NULL primary key autoincrement,\n",
        "\t`payment`\tinteger\tNULL,\n",
        "\t`discount`\tinteger\tNULL\n",
        ");\n",
        "  ''')"
      ],
      "metadata": {
        "id": "NW8ELws84duO"
      },
      "execution_count": null,
      "outputs": []
    },
    {
      "cell_type": "code",
      "source": [
        "with con:\n",
        "  con.execute('''\n",
        "CREATE TABLE `delivery` (\n",
        "\t`id`\tinteger\tNOT NULL primary key autoincrement,\n",
        "\t`status`\ttext\tNULL,\n",
        "\t`city`\ttext\tNULL,\n",
        "\t`street`\ttext\tNULL,\n",
        "\t`zipcode`\ttext\tNULL\n",
        ");\n",
        "  ''')"
      ],
      "metadata": {
        "id": "PEbwTI7Z4hOd"
      },
      "execution_count": null,
      "outputs": []
    },
    {
      "cell_type": "code",
      "source": [
        "with con:\n",
        "  con.execute('''\n",
        "CREATE TABLE `orders` (\n",
        "\t`id`\tinteger\tNOT NULL primary key autoincrement,\n",
        "\t`customer_id`\tinteger\tNOT NULL,\n",
        "\t`delivery_id`\tinteger\tNOT NULL,\n",
        "\t`payment_id`\tinteger\tNOT NULL,\n",
        "\t`is_delete`\tinteger\tNULL,\n",
        "  FOREIGN KEY (customer_id)\n",
        "       REFERENCES customer (id),\n",
        "  FOREIGN KEY (payment_id)\n",
        "       REFERENCES payment (id),\n",
        "  FOREIGN KEY (delivery_id)\n",
        "       REFERENCES delivery (id)\n",
        ");\n",
        "  ''')"
      ],
      "metadata": {
        "id": "sgBvCas_4lyB"
      },
      "execution_count": null,
      "outputs": []
    },
    {
      "cell_type": "code",
      "source": [
        "import pandas as pd\n",
        "cur = con.cursor()\n",
        "\n",
        "cur.execute(\"SELECT * FROM orders\")\n",
        "\n",
        "rows = cur.fetchall()\n",
        "\n",
        "cols = [column[0] for column in cur.description]\n",
        "\n",
        "data_df = pd.DataFrame.from_records(data=rows, columns=cols)\n",
        "\n",
        "data_df"
      ],
      "metadata": {
        "colab": {
          "base_uri": "https://localhost:8080/",
          "height": 49
        },
        "id": "Xn0ObWLv4ucW",
        "outputId": "6279aaee-573d-4961-9795-52654d8de3bb"
      },
      "execution_count": null,
      "outputs": [
        {
          "output_type": "execute_result",
          "data": {
            "text/plain": [
              "Empty DataFrame\n",
              "Columns: [id, customer_id, delivery_id, payment_id, is_delete]\n",
              "Index: []"
            ],
            "text/html": [
              "\n",
              "  <div id=\"df-5aa0d264-45e8-4881-bb38-c3f90a0f2152\">\n",
              "    <div class=\"colab-df-container\">\n",
              "      <div>\n",
              "<style scoped>\n",
              "    .dataframe tbody tr th:only-of-type {\n",
              "        vertical-align: middle;\n",
              "    }\n",
              "\n",
              "    .dataframe tbody tr th {\n",
              "        vertical-align: top;\n",
              "    }\n",
              "\n",
              "    .dataframe thead th {\n",
              "        text-align: right;\n",
              "    }\n",
              "</style>\n",
              "<table border=\"1\" class=\"dataframe\">\n",
              "  <thead>\n",
              "    <tr style=\"text-align: right;\">\n",
              "      <th></th>\n",
              "      <th>id</th>\n",
              "      <th>customer_id</th>\n",
              "      <th>delivery_id</th>\n",
              "      <th>payment_id</th>\n",
              "      <th>is_delete</th>\n",
              "    </tr>\n",
              "  </thead>\n",
              "  <tbody>\n",
              "  </tbody>\n",
              "</table>\n",
              "</div>\n",
              "      <button class=\"colab-df-convert\" onclick=\"convertToInteractive('df-5aa0d264-45e8-4881-bb38-c3f90a0f2152')\"\n",
              "              title=\"Convert this dataframe to an interactive table.\"\n",
              "              style=\"display:none;\">\n",
              "        \n",
              "  <svg xmlns=\"http://www.w3.org/2000/svg\" height=\"24px\"viewBox=\"0 0 24 24\"\n",
              "       width=\"24px\">\n",
              "    <path d=\"M0 0h24v24H0V0z\" fill=\"none\"/>\n",
              "    <path d=\"M18.56 5.44l.94 2.06.94-2.06 2.06-.94-2.06-.94-.94-2.06-.94 2.06-2.06.94zm-11 1L8.5 8.5l.94-2.06 2.06-.94-2.06-.94L8.5 2.5l-.94 2.06-2.06.94zm10 10l.94 2.06.94-2.06 2.06-.94-2.06-.94-.94-2.06-.94 2.06-2.06.94z\"/><path d=\"M17.41 7.96l-1.37-1.37c-.4-.4-.92-.59-1.43-.59-.52 0-1.04.2-1.43.59L10.3 9.45l-7.72 7.72c-.78.78-.78 2.05 0 2.83L4 21.41c.39.39.9.59 1.41.59.51 0 1.02-.2 1.41-.59l7.78-7.78 2.81-2.81c.8-.78.8-2.07 0-2.86zM5.41 20L4 18.59l7.72-7.72 1.47 1.35L5.41 20z\"/>\n",
              "  </svg>\n",
              "      </button>\n",
              "      \n",
              "  <style>\n",
              "    .colab-df-container {\n",
              "      display:flex;\n",
              "      flex-wrap:wrap;\n",
              "      gap: 12px;\n",
              "    }\n",
              "\n",
              "    .colab-df-convert {\n",
              "      background-color: #E8F0FE;\n",
              "      border: none;\n",
              "      border-radius: 50%;\n",
              "      cursor: pointer;\n",
              "      display: none;\n",
              "      fill: #1967D2;\n",
              "      height: 32px;\n",
              "      padding: 0 0 0 0;\n",
              "      width: 32px;\n",
              "    }\n",
              "\n",
              "    .colab-df-convert:hover {\n",
              "      background-color: #E2EBFA;\n",
              "      box-shadow: 0px 1px 2px rgba(60, 64, 67, 0.3), 0px 1px 3px 1px rgba(60, 64, 67, 0.15);\n",
              "      fill: #174EA6;\n",
              "    }\n",
              "\n",
              "    [theme=dark] .colab-df-convert {\n",
              "      background-color: #3B4455;\n",
              "      fill: #D2E3FC;\n",
              "    }\n",
              "\n",
              "    [theme=dark] .colab-df-convert:hover {\n",
              "      background-color: #434B5C;\n",
              "      box-shadow: 0px 1px 3px 1px rgba(0, 0, 0, 0.15);\n",
              "      filter: drop-shadow(0px 1px 2px rgba(0, 0, 0, 0.3));\n",
              "      fill: #FFFFFF;\n",
              "    }\n",
              "  </style>\n",
              "\n",
              "      <script>\n",
              "        const buttonEl =\n",
              "          document.querySelector('#df-5aa0d264-45e8-4881-bb38-c3f90a0f2152 button.colab-df-convert');\n",
              "        buttonEl.style.display =\n",
              "          google.colab.kernel.accessAllowed ? 'block' : 'none';\n",
              "\n",
              "        async function convertToInteractive(key) {\n",
              "          const element = document.querySelector('#df-5aa0d264-45e8-4881-bb38-c3f90a0f2152');\n",
              "          const dataTable =\n",
              "            await google.colab.kernel.invokeFunction('convertToInteractive',\n",
              "                                                     [key], {});\n",
              "          if (!dataTable) return;\n",
              "\n",
              "          const docLinkHtml = 'Like what you see? Visit the ' +\n",
              "            '<a target=\"_blank\" href=https://colab.research.google.com/notebooks/data_table.ipynb>data table notebook</a>'\n",
              "            + ' to learn more about interactive tables.';\n",
              "          element.innerHTML = '';\n",
              "          dataTable['output_type'] = 'display_data';\n",
              "          await google.colab.output.renderOutput(dataTable, element);\n",
              "          const docLink = document.createElement('div');\n",
              "          docLink.innerHTML = docLinkHtml;\n",
              "          element.appendChild(docLink);\n",
              "        }\n",
              "      </script>\n",
              "    </div>\n",
              "  </div>\n",
              "  "
            ]
          },
          "metadata": {},
          "execution_count": 9
        }
      ]
    },
    {
      "cell_type": "code",
      "source": [
        "with con:\n",
        "  con.execute('''\n",
        "CREATE TABLE `item_category` (\n",
        "\t`id`\tinteger\tNOT NULL primary key autoincrement,\n",
        "\t`name`\ttext\tNULL\n",
        ");\n",
        "  ''')"
      ],
      "metadata": {
        "id": "6IyGu3c542qa"
      },
      "execution_count": null,
      "outputs": []
    },
    {
      "cell_type": "code",
      "source": [
        "with con:\n",
        "  con.execute('''\n",
        "  CREATE TABLE `item` (\n",
        "\t`id`\tinteger\tNOT NULL primary key autoincrement,\n",
        "\t'name' text NULL,\n",
        "\t`price`\tinteger\tNULL,\n",
        "\t`stock`\tinteger\tNULL,\n",
        "\t`seller_id`\tinteger\tNOT NULL,\n",
        "\t`category_id`\tinteger\tNOT NULL,\n",
        "\t`is_delete`\tinteger\tNULL,\n",
        "  foreign key (seller_id) references seller (id),\n",
        "  foreign key (category_id) references item_category (id)\n",
        ");\n",
        "  ''')"
      ],
      "metadata": {
        "id": "Krke4jOl5Ax0"
      },
      "execution_count": null,
      "outputs": []
    },
    {
      "cell_type": "code",
      "source": [
        "cur = con.cursor()\n",
        "\n",
        "cur.execute(\"SELECT * FROM item\")\n",
        "\n",
        "rows = cur.fetchall()\n",
        "\n",
        "cols = [column[0] for column in cur.description]\n",
        "\n",
        "data_df = pd.DataFrame.from_records(data=rows, columns=cols)\n",
        "\n",
        "data_df"
      ],
      "metadata": {
        "colab": {
          "base_uri": "https://localhost:8080/",
          "height": 49
        },
        "id": "MnHbGAzF5pLV",
        "outputId": "46d4cc40-db71-4ac9-d28a-a1d119a54be6"
      },
      "execution_count": null,
      "outputs": [
        {
          "output_type": "execute_result",
          "data": {
            "text/plain": [
              "Empty DataFrame\n",
              "Columns: [id, name, price, stock, seller_id, category_id, is_delete]\n",
              "Index: []"
            ],
            "text/html": [
              "\n",
              "  <div id=\"df-e13e6f40-48b6-4a98-b10e-76bd030c47a3\">\n",
              "    <div class=\"colab-df-container\">\n",
              "      <div>\n",
              "<style scoped>\n",
              "    .dataframe tbody tr th:only-of-type {\n",
              "        vertical-align: middle;\n",
              "    }\n",
              "\n",
              "    .dataframe tbody tr th {\n",
              "        vertical-align: top;\n",
              "    }\n",
              "\n",
              "    .dataframe thead th {\n",
              "        text-align: right;\n",
              "    }\n",
              "</style>\n",
              "<table border=\"1\" class=\"dataframe\">\n",
              "  <thead>\n",
              "    <tr style=\"text-align: right;\">\n",
              "      <th></th>\n",
              "      <th>id</th>\n",
              "      <th>name</th>\n",
              "      <th>price</th>\n",
              "      <th>stock</th>\n",
              "      <th>seller_id</th>\n",
              "      <th>category_id</th>\n",
              "      <th>is_delete</th>\n",
              "    </tr>\n",
              "  </thead>\n",
              "  <tbody>\n",
              "  </tbody>\n",
              "</table>\n",
              "</div>\n",
              "      <button class=\"colab-df-convert\" onclick=\"convertToInteractive('df-e13e6f40-48b6-4a98-b10e-76bd030c47a3')\"\n",
              "              title=\"Convert this dataframe to an interactive table.\"\n",
              "              style=\"display:none;\">\n",
              "        \n",
              "  <svg xmlns=\"http://www.w3.org/2000/svg\" height=\"24px\"viewBox=\"0 0 24 24\"\n",
              "       width=\"24px\">\n",
              "    <path d=\"M0 0h24v24H0V0z\" fill=\"none\"/>\n",
              "    <path d=\"M18.56 5.44l.94 2.06.94-2.06 2.06-.94-2.06-.94-.94-2.06-.94 2.06-2.06.94zm-11 1L8.5 8.5l.94-2.06 2.06-.94-2.06-.94L8.5 2.5l-.94 2.06-2.06.94zm10 10l.94 2.06.94-2.06 2.06-.94-2.06-.94-.94-2.06-.94 2.06-2.06.94z\"/><path d=\"M17.41 7.96l-1.37-1.37c-.4-.4-.92-.59-1.43-.59-.52 0-1.04.2-1.43.59L10.3 9.45l-7.72 7.72c-.78.78-.78 2.05 0 2.83L4 21.41c.39.39.9.59 1.41.59.51 0 1.02-.2 1.41-.59l7.78-7.78 2.81-2.81c.8-.78.8-2.07 0-2.86zM5.41 20L4 18.59l7.72-7.72 1.47 1.35L5.41 20z\"/>\n",
              "  </svg>\n",
              "      </button>\n",
              "      \n",
              "  <style>\n",
              "    .colab-df-container {\n",
              "      display:flex;\n",
              "      flex-wrap:wrap;\n",
              "      gap: 12px;\n",
              "    }\n",
              "\n",
              "    .colab-df-convert {\n",
              "      background-color: #E8F0FE;\n",
              "      border: none;\n",
              "      border-radius: 50%;\n",
              "      cursor: pointer;\n",
              "      display: none;\n",
              "      fill: #1967D2;\n",
              "      height: 32px;\n",
              "      padding: 0 0 0 0;\n",
              "      width: 32px;\n",
              "    }\n",
              "\n",
              "    .colab-df-convert:hover {\n",
              "      background-color: #E2EBFA;\n",
              "      box-shadow: 0px 1px 2px rgba(60, 64, 67, 0.3), 0px 1px 3px 1px rgba(60, 64, 67, 0.15);\n",
              "      fill: #174EA6;\n",
              "    }\n",
              "\n",
              "    [theme=dark] .colab-df-convert {\n",
              "      background-color: #3B4455;\n",
              "      fill: #D2E3FC;\n",
              "    }\n",
              "\n",
              "    [theme=dark] .colab-df-convert:hover {\n",
              "      background-color: #434B5C;\n",
              "      box-shadow: 0px 1px 3px 1px rgba(0, 0, 0, 0.15);\n",
              "      filter: drop-shadow(0px 1px 2px rgba(0, 0, 0, 0.3));\n",
              "      fill: #FFFFFF;\n",
              "    }\n",
              "  </style>\n",
              "\n",
              "      <script>\n",
              "        const buttonEl =\n",
              "          document.querySelector('#df-e13e6f40-48b6-4a98-b10e-76bd030c47a3 button.colab-df-convert');\n",
              "        buttonEl.style.display =\n",
              "          google.colab.kernel.accessAllowed ? 'block' : 'none';\n",
              "\n",
              "        async function convertToInteractive(key) {\n",
              "          const element = document.querySelector('#df-e13e6f40-48b6-4a98-b10e-76bd030c47a3');\n",
              "          const dataTable =\n",
              "            await google.colab.kernel.invokeFunction('convertToInteractive',\n",
              "                                                     [key], {});\n",
              "          if (!dataTable) return;\n",
              "\n",
              "          const docLinkHtml = 'Like what you see? Visit the ' +\n",
              "            '<a target=\"_blank\" href=https://colab.research.google.com/notebooks/data_table.ipynb>data table notebook</a>'\n",
              "            + ' to learn more about interactive tables.';\n",
              "          element.innerHTML = '';\n",
              "          dataTable['output_type'] = 'display_data';\n",
              "          await google.colab.output.renderOutput(dataTable, element);\n",
              "          const docLink = document.createElement('div');\n",
              "          docLink.innerHTML = docLinkHtml;\n",
              "          element.appendChild(docLink);\n",
              "        }\n",
              "      </script>\n",
              "    </div>\n",
              "  </div>\n",
              "  "
            ]
          },
          "metadata": {},
          "execution_count": 12
        }
      ]
    },
    {
      "cell_type": "code",
      "source": [
        "with con:\n",
        "  con.execute('''\n",
        "  CREATE TABLE `order_item` (\n",
        "\t`id`\tinteger\tNOT NULL primary key autoincrement,\n",
        "\t`order_id`\tinteger\tNOT NULL,\n",
        "\t`item_id`\tinteger\tNOT NULL,\n",
        "\t`count`\tinteger\tNULL,\n",
        "\t`price`\tinteger\tNULL,\n",
        "  foreign key (order_id) references orders (id),\n",
        "  foreign key (item_id) references item (id)\n",
        ");\n",
        "  ''')"
      ],
      "metadata": {
        "id": "rvYagYuz5Bzj"
      },
      "execution_count": null,
      "outputs": []
    },
    {
      "cell_type": "code",
      "source": [
        "# with con:\n",
        "#   con.execute('''\n",
        "#   CREATE TABLE `error` (\n",
        "# \t`id`\tinteger\tNOT NULL primary key autoincrement,\n",
        "# \t`user_id`\tinteger\tNOT NULL,\n",
        "# \t`error_date`\ttext\tNULL,\n",
        "# \t`message`\ttext\tNULL,\n",
        "# \t`exception`\ttext\tNULL,\n",
        "# \t`ip_address`\ttext\tNULL,\n",
        "#   foreign key (user_id) references user (id)\n",
        "# );\n",
        "#   ''')"
      ],
      "metadata": {
        "id": "ezlV4JP86d01"
      },
      "execution_count": null,
      "outputs": []
    },
    {
      "cell_type": "code",
      "source": [
        "# with con:\n",
        "#   con.execute('''\n",
        "#   CREATE TABLE `history` (\n",
        "# \t`id`\tinteger\tNOT NULL primary key autoincrement,\n",
        "# \t`user_id`\tinteger\tNOT NULL,\n",
        "# \t`history_date`\ttext\tNULL,\n",
        "# \t`what`\ttext\tNULL,\n",
        "# \t`what_id`\tinteger\tNULL,\n",
        "# \t`name`\ttext\tNULL,\n",
        "# \t`operation`\ttext\tNULL,\n",
        "# \t`content`\ttext\tNULL,\n",
        "# \t`undodate`\ttext\tNULL,\n",
        "# \t`create_on`\ttext\tNULL,\n",
        "# \t`create_by`\tinteger\tNULL,\n",
        "# \t`change_on`\ttext\tNULL,\n",
        "# \t`change_by`\tinteger\tNULL,\n",
        "#   foreign key (user_id) references user (id)\n",
        "# );\n",
        "#   ''')"
      ],
      "metadata": {
        "id": "l_exdh60630s"
      },
      "execution_count": null,
      "outputs": []
    },
    {
      "cell_type": "code",
      "source": [
        "with con:\n",
        "  con.execute('''\n",
        "  CREATE TABLE `activity_log` (\n",
        "\t`id`\tinteger\tNOT NULL primary key autoincrement,\n",
        "\t`user_id`\tinteger\tNOT NULL,\n",
        "\t`log_date`\ttext\tNULL,\n",
        "\t`activity`\ttext\tNULL,\n",
        "\t`result`\ttext\tNULL,\n",
        "  foreign key (user_id) references user (id)\n",
        ");\n",
        "  ''')"
      ],
      "metadata": {
        "id": "HYOQuamc7AJd"
      },
      "execution_count": null,
      "outputs": []
    },
    {
      "cell_type": "code",
      "source": [
        "with con:\n",
        "  con.execute('''\n",
        "  CREATE TABLE `cpu` (\n",
        "\t`id`\tinteger\tNOT NULL primary key autoincrement,\n",
        "\t`item_id`\tinteger\tNOT NULL,\n",
        "\t`manufacturing`\ttext\tNULL,\n",
        "\t`clock`\tinteger\tNULL,\n",
        "\t'model_name' text NULL,\n",
        "\t`is_delete`\tinteger\tNULL,\n",
        "  foreign key (item_id) references item (id)\n",
        ");\n",
        "  ''')"
      ],
      "metadata": {
        "id": "6LZiUS4H8hme"
      },
      "execution_count": null,
      "outputs": []
    },
    {
      "cell_type": "code",
      "source": [
        "with con:\n",
        "  con.execute('''\n",
        "  CREATE TABLE `gpu` (\n",
        "\t`id`\tinteger\tNOT NULL primary key autoincrement,\n",
        "\t`item_id`\tinteger\tNOT NULL,\n",
        "\t`manufacturing`\ttext\tNULL,\n",
        "  'chipset' text NULL,\n",
        "  'model_name' text NULL,\n",
        "\t`is_delete`\tinteger\tNULL,\n",
        "  foreign key (item_id) references item (id)\n",
        ");\n",
        "  ''')"
      ],
      "metadata": {
        "id": "efjdypXb80ZD"
      },
      "execution_count": null,
      "outputs": []
    },
    {
      "cell_type": "code",
      "source": [
        "with con:\n",
        "  con.execute('''\n",
        "  CREATE TABLE `memory` (\n",
        "\t`id`\tinteger\tNOT NULL primary key autoincrement,\n",
        "\t`item_id`\tinteger\tNOT NULL,\n",
        "\t`manufacturing`\ttext\tNULL,\n",
        "\t`capacity`\tinteger\tNULL,\n",
        "\t'model_name' text NULL,\n",
        "\t`is_delete`\tinteger\tNULL,\n",
        "  foreign key (item_id) references item (id)\n",
        ");\n",
        "  ''')"
      ],
      "metadata": {
        "id": "rJY_PfTu8_z9"
      },
      "execution_count": null,
      "outputs": []
    },
    {
      "cell_type": "code",
      "source": [
        "with con:\n",
        "  con.execute('''\n",
        "  CREATE TABLE `power` (\n",
        "\t`id`\tinteger\tNOT NULL primary key autoincrement,\n",
        "\t`item_id`\tinteger\tNOT NULL,\n",
        "\t`manufacturing`\ttext\tNULL,\n",
        "\t`wattage`\tinteger\tNULL,\n",
        "\t`is_delete`\tinteger\tNULL,\n",
        "  foreign key (item_id) references item (id)\n",
        ");\n",
        "  ''')"
      ],
      "metadata": {
        "id": "3xdsg4vF9Ixy"
      },
      "execution_count": null,
      "outputs": []
    },
    {
      "cell_type": "code",
      "source": [
        "res = con.execute('SELECT name FROM sqlite_master WHERE type IN (\"table\", \"view\") AND name NOT LIKE \"sqlite_%\" UNION ALL SELECT name FROM sqlite_temp_master WHERE type IN (\"table\", \"view\") ORDER BY 1;')\n",
        "for row in res:\n",
        "  print(row)"
      ],
      "metadata": {
        "colab": {
          "base_uri": "https://localhost:8080/"
        },
        "id": "1f1tSG6l9Vt-",
        "outputId": "aa38b5dd-cef4-4f13-b9df-6217ea0b3bad"
      },
      "execution_count": null,
      "outputs": [
        {
          "output_type": "stream",
          "name": "stdout",
          "text": [
            "('activity_log',)\n",
            "('cpu',)\n",
            "('customer',)\n",
            "('delivery',)\n",
            "('gpu',)\n",
            "('item',)\n",
            "('item_category',)\n",
            "('memory',)\n",
            "('order_item',)\n",
            "('orders',)\n",
            "('payment',)\n",
            "('power',)\n",
            "('seller',)\n",
            "('user',)\n"
          ]
        }
      ]
    }
  ]
}