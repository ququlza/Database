{
  "nbformat": 4,
  "nbformat_minor": 0,
  "metadata": {
    "colab": {
      "provenance": [],
      "authorship_tag": "ABX9TyNqz3Qd0IPYJVPx9yBpjp5y",
      "include_colab_link": true
    },
    "kernelspec": {
      "name": "python3",
      "display_name": "Python 3"
    },
    "language_info": {
      "name": "python"
    }
  },
  "cells": [
    {
      "cell_type": "markdown",
      "metadata": {
        "id": "view-in-github",
        "colab_type": "text"
      },
      "source": [
        "<a href=\"https://colab.research.google.com/github/ququlza/Database/blob/main/Midterm.ipynb\" target=\"_parent\"><img src=\"https://colab.research.google.com/assets/colab-badge.svg\" alt=\"Open In Colab\"/></a>"
      ]
    },
    {
      "cell_type": "code",
      "execution_count": null,
      "metadata": {
        "id": "g4pN7ocZI8Yr"
      },
      "outputs": [],
      "source": [
        "from sqlalchemy import create_engine\n",
        "my_conn = create_engine(\"sqlite:////content/midterm.db\")"
      ]
    },
    {
      "cell_type": "code",
      "source": [
        "r_set=my_conn.execute('''\n",
        "CREATE TABLE `Vehicle Assets` (\n",
        "\t`Vehicle Id`\tVARCHAR(10)\tNOT NULL,\n",
        "\t`Registration Id`\tVARCHAR(10)\tNULL,\n",
        "\t`Manufacturer`\tVARCHAR(10)\tNULL,\n",
        "\t`Model`\tVARCHAR(10)\tNULL,\n",
        "\t`Color`\tVARCHAR(10)\tNULL,\n",
        "\t`Current Odometer`\tINT\tNULL,\n",
        "\t`Passenger Capacity`\tINT\tNULL,\n",
        "  PRIMARY KEY (`Vehicle Id`)\n",
        ");\n",
        " ''')"
      ],
      "metadata": {
        "id": "juBtS0VPODaS"
      },
      "execution_count": null,
      "outputs": []
    },
    {
      "cell_type": "code",
      "source": [
        "my_conn.execute('''\n",
        "INSERT INTO `Vehicle Assets`\n",
        "(`Vehicle Id`, `Registration Id`, `Manufacturer`, `Model`, `Color`, `Current Odometer`, `Passenger Capacity`) VALUES\n",
        "('V1000','2001 ABC','Volvo','XC90 SE','Silver',4350,4),\n",
        "('V1001','2006 AFD','Kia','K7','Black',2195,4),\n",
        "('V1002','2021 AHR','Tesla','2020 F','White',509,4),\n",
        "('V1003','2020 DXF','Ford','Transit','Silver',974,2);\n",
        "''')"
      ],
      "metadata": {
        "colab": {
          "base_uri": "https://localhost:8080/"
        },
        "id": "SIJrDgXTOvZ7",
        "outputId": "e7d870f8-75bc-4b7c-8a00-9a48ad7c0725"
      },
      "execution_count": null,
      "outputs": [
        {
          "output_type": "execute_result",
          "data": {
            "text/plain": [
              "<sqlalchemy.engine.cursor.LegacyCursorResult at 0x7f3c51fef850>"
            ]
          },
          "metadata": {},
          "execution_count": 10
        }
      ]
    },
    {
      "cell_type": "code",
      "source": [
        "r_set=my_conn.execute('''SELECT * from 'Vehicle Assets' ''');\n",
        "for row in r_set:\n",
        "  print(row)"
      ],
      "metadata": {
        "colab": {
          "base_uri": "https://localhost:8080/"
        },
        "id": "4LhsQRbfPgMV",
        "outputId": "26dcbdb0-93ed-40f1-f44a-791d9ac3bfc2"
      },
      "execution_count": null,
      "outputs": [
        {
          "output_type": "stream",
          "name": "stdout",
          "text": [
            "('V1000', '2001 ABC', 'Volvo', 'XC90 SE', 'Silver', 4350, 4)\n",
            "('V1001', '2006 AFD', 'Kia', 'K7', 'Black', 2195, 4)\n",
            "('V1002', '2021 AHR', 'Tesla', '2020 F', 'White', 509, 4)\n",
            "('V1003', '2020 DXF', 'Ford', 'Transit', 'Silver', 974, 2)\n"
          ]
        }
      ]
    },
    {
      "cell_type": "code",
      "source": [
        "r_set=my_conn.execute('''\n",
        "CREATE TABLE `MR Service` (\n",
        "\t`Vehicle Id`\tVARCHAR(10)\tNOT NULL,\n",
        "\t`Flag`\tCHAR(1)\tNOT NULL,\n",
        "\t`MR`\tCHAR(1)\tNULL,\n",
        "\t`Final Cost`\tINT\tNULL,\n",
        "\t`Description`\tVARCHAR(100)\tNULL,\n",
        "\t`Date`\tDATE\tNULL,\n",
        "\t`Odometer`\tINT\tNULL,\n",
        "\tPRIMARY KEY (`Vehicle Id`)\n",
        "  FOREIGN KEY (`Vehicle Id`)\n",
        "  REFERENCES `Vehicle Assets` (`Vehicle Id`)\n",
        ");\n",
        " ''')"
      ],
      "metadata": {
        "id": "qdqNkADJPscd"
      },
      "execution_count": 12,
      "outputs": []
    },
    {
      "cell_type": "code",
      "source": [
        "my_conn.execute('''\n",
        "INSERT INTO `MR Service`\n",
        "(`Vehicle Id`, `Flag`, `MR`, `Final Cost`, `Description`, `Date`, `Odometer`) VALUES\n",
        "('V1000', 'N', 'M', 3000, 'Oil change', '2022-10-23', 43245),\n",
        "('V1001', 'N', 'R', 2000, 'Tire change', '2022-10-23', 68749)\n",
        "''')"
      ],
      "metadata": {
        "colab": {
          "base_uri": "https://localhost:8080/"
        },
        "id": "m8msh5ZZU9R6",
        "outputId": "a3fcfaa8-8785-4817-aca5-7488c92b98df"
      },
      "execution_count": 16,
      "outputs": [
        {
          "output_type": "execute_result",
          "data": {
            "text/plain": [
              "<sqlalchemy.engine.cursor.LegacyCursorResult at 0x7f3c51fef790>"
            ]
          },
          "metadata": {},
          "execution_count": 16
        }
      ]
    },
    {
      "cell_type": "code",
      "source": [
        "my_conn.execute('''\n",
        "INSERT INTO `MR Service`\n",
        "(`Vehicle Id`, `Flag`) VALUES\n",
        "('V1002', 'Y'),\n",
        "('V1003', 'Y');\n",
        "''')"
      ],
      "metadata": {
        "colab": {
          "base_uri": "https://localhost:8080/"
        },
        "id": "dSsgaXMVX57s",
        "outputId": "662a32b4-7c5f-4bb0-a438-0dd65923ab6e"
      },
      "execution_count": 18,
      "outputs": [
        {
          "output_type": "execute_result",
          "data": {
            "text/plain": [
              "<sqlalchemy.engine.cursor.LegacyCursorResult at 0x7f3c51ffaad0>"
            ]
          },
          "metadata": {},
          "execution_count": 18
        }
      ]
    },
    {
      "cell_type": "code",
      "source": [
        "r_set=my_conn.execute('''SELECT * from 'MR Service' ''');\n",
        "for row in r_set:\n",
        "  print(row)"
      ],
      "metadata": {
        "colab": {
          "base_uri": "https://localhost:8080/"
        },
        "id": "vpqOhwPKYF9l",
        "outputId": "d6b0af06-d8c3-4343-9c02-207401374067"
      },
      "execution_count": 19,
      "outputs": [
        {
          "output_type": "stream",
          "name": "stdout",
          "text": [
            "('V1000', 'N', 'M', 3000, 'Oil change', '2022-10-23', 43245)\n",
            "('V1001', 'N', 'R', 2000, 'Tire change', '2022-10-23', 68749)\n",
            "('V1002', 'Y', None, None, None, None, None)\n",
            "('V1003', 'Y', None, None, None, None, None)\n"
          ]
        }
      ]
    },
    {
      "cell_type": "code",
      "source": [
        "r_set=my_conn.execute('''\n",
        " CREATE TABLE `Availablity` (\n",
        "\t`Flag`\tCHAR(1)\tNOT NULL,\n",
        "\t`Vehicle Id`\tVARCHAR(10)\tNOT NULL,\n",
        "  PRIMARY KEY (`Flag`, `Vehicle Id`)\n",
        "  FOREIGN KEY (`Vehicle Id`)\n",
        "  REFERENCES `Assets` (`Vehicle Id`)\n",
        ");\n",
        " ''')"
      ],
      "metadata": {
        "id": "Byx8zu1PZImj"
      },
      "execution_count": 23,
      "outputs": []
    },
    {
      "cell_type": "code",
      "source": [
        "my_conn.execute('''\n",
        "INSERT INTO `Availablity`\n",
        "(`Flag`, `Vehicle Id`) VALUES\n",
        "('N','V1000'),\n",
        "('N','V1001'),\n",
        "('Y','V1002'),\n",
        "('Y', 'V1003');\n",
        "''')"
      ],
      "metadata": {
        "colab": {
          "base_uri": "https://localhost:8080/"
        },
        "id": "banTEcXnaQF2",
        "outputId": "9e2e8160-cbf6-4113-8e85-0742d3e69437"
      },
      "execution_count": 26,
      "outputs": [
        {
          "output_type": "execute_result",
          "data": {
            "text/plain": [
              "<sqlalchemy.engine.cursor.LegacyCursorResult at 0x7f3c51ffe650>"
            ]
          },
          "metadata": {},
          "execution_count": 26
        }
      ]
    },
    {
      "cell_type": "code",
      "source": [
        "r_set=my_conn.execute('''SELECT * from 'Availablity' ''');\n",
        "for row in r_set:\n",
        "  print(row)"
      ],
      "metadata": {
        "colab": {
          "base_uri": "https://localhost:8080/"
        },
        "id": "yCHLxXUCatsB",
        "outputId": "afaf268c-e2bc-4ea2-95f2-a0bebcb4a32e"
      },
      "execution_count": 27,
      "outputs": [
        {
          "output_type": "stream",
          "name": "stdout",
          "text": [
            "('N', 'V1000')\n",
            "('N', 'V1001')\n",
            "('Y', 'V1002')\n",
            "('Y', 'V1003')\n"
          ]
        }
      ]
    },
    {
      "cell_type": "code",
      "source": [
        "r_set=my_conn.execute('''\n",
        "CREATE TABLE `Officials` (\n",
        "\t`Country`\tVARCHAR(10)\tNOT NULL,\n",
        "\t`Language`\tVARCHAR(10)\tNOT NULL,\n",
        "\t`Booking Number`\tINT\tNOT NULL,\n",
        "\t`Name`\tVARCHAR(10)\tNULL,\n",
        "\t`Role`\tVARCHAR(10)\tNULL,\n",
        "\t`City Id`\tVARCHAR(8)\tNOT NULL\n",
        ");\n",
        " ''')"
      ],
      "metadata": {
        "id": "2McdyUr6azQC"
      },
      "execution_count": 28,
      "outputs": []
    },
    {
      "cell_type": "code",
      "source": [
        "my_conn.execute('''\n",
        "INSERT INTO `Officials`\n",
        "(`Country`, `Language`, `Booking Number`, `Name`, `Role`, `City Id`) VALUES\n",
        "('Korea','KR', 1,'Son HeungMin','Manager','Jung-gu'),\n",
        "('Brazil','PT', 2, 'Ronaldo','Coach','Dong-gu'),\n",
        "('England','EN', 3,'Harry kane','Judge','Michuhol-gu');\n",
        "''')"
      ],
      "metadata": {
        "colab": {
          "base_uri": "https://localhost:8080/"
        },
        "id": "AErpN_VQbc6W",
        "outputId": "ad674d3c-72ce-4201-c2f0-b1e9b735d2cc"
      },
      "execution_count": 29,
      "outputs": [
        {
          "output_type": "execute_result",
          "data": {
            "text/plain": [
              "<sqlalchemy.engine.cursor.LegacyCursorResult at 0x7f3c51f96590>"
            ]
          },
          "metadata": {},
          "execution_count": 29
        }
      ]
    },
    {
      "cell_type": "code",
      "source": [
        "r_set=my_conn.execute('''SELECT * from 'Officials' ''');\n",
        "for row in r_set:\n",
        "  print(row)"
      ],
      "metadata": {
        "colab": {
          "base_uri": "https://localhost:8080/"
        },
        "id": "8xArApuqeY7y",
        "outputId": "3ed9b6c2-43b3-4653-ed80-74522a5997c8"
      },
      "execution_count": 30,
      "outputs": [
        {
          "output_type": "stream",
          "name": "stdout",
          "text": [
            "('Korea', 'KR', 1, 'Son Heungmin', 'Manager', 'Jung-gu')\n",
            "('Brazil', 'PT', 2, 'Ronaldo', 'Coach', 'Dong-gu')\n",
            "('England', 'EN', 3, 'Harry kane', 'Judge', 'Michuhol-gu')\n"
          ]
        }
      ]
    },
    {
      "cell_type": "code",
      "source": [
        "r_set=my_conn.execute('''\n",
        "CREATE TABLE `Countries` (\n",
        "\t`Country`\tVARCHAR(10)\tNOT NULL,\n",
        "\t`Language`\tVARCHAR(10)\tNOT NULL,\n",
        "  PRIMARY KEY (`Country`, `Language`)\n",
        ");\n",
        " ''')"
      ],
      "metadata": {
        "id": "397Uxa2Xedj0"
      },
      "execution_count": 31,
      "outputs": []
    },
    {
      "cell_type": "code",
      "source": [
        "my_conn.execute('''\n",
        "INSERT INTO `Countries`\n",
        "(`Country`, `Language`) VALUES\n",
        "('Korea','KR'),\n",
        "('Brazil','PT'),\n",
        "('England','EN');\n",
        "''')"
      ],
      "metadata": {
        "colab": {
          "base_uri": "https://localhost:8080/"
        },
        "id": "-8g2DhjGe4fx",
        "outputId": "e156138b-1b5d-4c58-cf9f-8b5728c2d2ac"
      },
      "execution_count": 32,
      "outputs": [
        {
          "output_type": "execute_result",
          "data": {
            "text/plain": [
              "<sqlalchemy.engine.cursor.LegacyCursorResult at 0x7f3c51fef350>"
            ]
          },
          "metadata": {},
          "execution_count": 32
        }
      ]
    },
    {
      "cell_type": "code",
      "source": [
        "r_set=my_conn.execute('''SELECT * from 'Countries' ''');\n",
        "for row in r_set:\n",
        "  print(row)"
      ],
      "metadata": {
        "colab": {
          "base_uri": "https://localhost:8080/"
        },
        "id": "H7LHGkvdfR3i",
        "outputId": "8bac3421-5cb5-4446-d7e1-4e0b6f66bf05"
      },
      "execution_count": 33,
      "outputs": [
        {
          "output_type": "stream",
          "name": "stdout",
          "text": [
            "('Korea', 'KR')\n",
            "('Brazil', 'PT')\n",
            "('England', 'EN')\n"
          ]
        }
      ]
    },
    {
      "cell_type": "code",
      "source": [
        "r_set=my_conn.execute('''\n",
        "CREATE TABLE `Driver` (\n",
        "\t`License Number`\tVARCHAR(18)\tNOT NULL,\n",
        "\t`Language`\tVARCHAR(10)\tNOT NULL,\n",
        "\t`Name`\tVARCHAR(10)\tNULL,\n",
        "\t`Clearance Level`\tINT\tNULL,\n",
        "  PRIMARY KEY (`License Number`)\n",
        ");\n",
        " ''')"
      ],
      "metadata": {
        "id": "WRyL29safVFY"
      },
      "execution_count": 34,
      "outputs": []
    },
    {
      "cell_type": "code",
      "source": [
        "my_conn.execute('''\n",
        "INSERT INTO `Driver`\n",
        "(`License Number`, `Language`, `Name`, `Clearance Level`) VALUES\n",
        "('qqq11-17-174133-01','KR', 'Lee KangIn',1),\n",
        "('qqq12-15-250149-01','PT', 'Picardo Kaka',2),\n",
        "('qqq11-19-698734-01','EN', 'Mason Mount',3);\n",
        "\n",
        "''')"
      ],
      "metadata": {
        "colab": {
          "base_uri": "https://localhost:8080/"
        },
        "id": "VjOk2YVHftQp",
        "outputId": "d8570608-31f9-411a-d1e1-528d0c436ba6"
      },
      "execution_count": 35,
      "outputs": [
        {
          "output_type": "execute_result",
          "data": {
            "text/plain": [
              "<sqlalchemy.engine.cursor.LegacyCursorResult at 0x7f3c57849c90>"
            ]
          },
          "metadata": {},
          "execution_count": 35
        }
      ]
    },
    {
      "cell_type": "code",
      "source": [
        "r_set=my_conn.execute('''SELECT * from 'Driver' ''');\n",
        "for row in r_set:\n",
        "  print(row)"
      ],
      "metadata": {
        "colab": {
          "base_uri": "https://localhost:8080/"
        },
        "id": "bPIN7-H2hJHp",
        "outputId": "c70dc8dd-5eb3-4210-8725-d4323a36e4bd"
      },
      "execution_count": 36,
      "outputs": [
        {
          "output_type": "stream",
          "name": "stdout",
          "text": [
            "('qqq11-17-174133-01', 'KR', 'Lee KangIn', 1)\n",
            "('qqq12-15-250149-01', 'PT', 'Picardo Kaka', 2)\n",
            "('qqq11-19-698734-01', 'EN', 'Mason Mount', 3)\n"
          ]
        }
      ]
    },
    {
      "cell_type": "code",
      "source": [
        "r_set=my_conn.execute('''\n",
        "CREATE TABLE `FATL` (\n",
        "\t`License Number`\tVARCHAR(18)\tNOT NULL,\n",
        "\t`Level`\tINT\tNULL,\n",
        "\t`Qualification Date`\tDATE\tNULL,\n",
        "   PRIMARY KEY (`License Number`)\n",
        "   FOREIGN KEY (`License Number`)\n",
        "  REFERENCES `Driver` (`License Number`)\n",
        ");\n",
        " ''')"
      ],
      "metadata": {
        "id": "9HaFaHhRhNHl"
      },
      "execution_count": 37,
      "outputs": []
    },
    {
      "cell_type": "code",
      "source": [
        "my_conn.execute('''\n",
        "INSERT INTO `FATL`\n",
        "(`License Number`, `Level`, `Qualification Date`) VALUES\n",
        "('qqq11-17-174133-0',4, '2018-11-13'),\n",
        "('qqq12-15-250149-01',1, '2022-10-23'),\n",
        "('qqq11-19-698734-01',5,'2013-05-08');\n",
        "''')"
      ],
      "metadata": {
        "colab": {
          "base_uri": "https://localhost:8080/"
        },
        "id": "7Nr2FKGihzpC",
        "outputId": "35d0e6f3-5f60-4e89-e7ab-4374184c9cee"
      },
      "execution_count": 38,
      "outputs": [
        {
          "output_type": "execute_result",
          "data": {
            "text/plain": [
              "<sqlalchemy.engine.cursor.LegacyCursorResult at 0x7f3c586c1ed0>"
            ]
          },
          "metadata": {},
          "execution_count": 38
        }
      ]
    },
    {
      "cell_type": "code",
      "source": [
        "r_set=my_conn.execute('''SELECT * from 'FATL' ''');\n",
        "for row in r_set:\n",
        "  print(row)"
      ],
      "metadata": {
        "colab": {
          "base_uri": "https://localhost:8080/"
        },
        "id": "5hAmI3PdiXCc",
        "outputId": "9da4fc23-372e-47e0-d83b-9e8007f62e4e"
      },
      "execution_count": 39,
      "outputs": [
        {
          "output_type": "stream",
          "name": "stdout",
          "text": [
            "('qqq11-17-174133-0', 4, '2018-11-13')\n",
            "('qqq12-15-250149-01', 1, '2022-10-23')\n",
            "('qqq11-19-698734-01', 5, '2013-05-08')\n"
          ]
        }
      ]
    },
    {
      "cell_type": "code",
      "source": [
        "r_set=my_conn.execute('''\n",
        "CREATE TABLE `STLVT` (\n",
        "\t`License Number`\tVARCHAR(18)\tNOT NULL,\n",
        "\t`Level`\tINT\tNULL,\n",
        "\t`Qualification Date`\tDATE\tNULL,\n",
        "\t`Certifying Authority`\tVARCHAR(30)\tNULL,\n",
        "  PRIMARY KEY (`License Number`)\n",
        "   FOREIGN KEY (`License Number`)\n",
        "  REFERENCES `Driver` (`License Number`)\n",
        ");\n",
        " ''')"
      ],
      "metadata": {
        "id": "ALlOJLyWibJn"
      },
      "execution_count": 40,
      "outputs": []
    },
    {
      "cell_type": "code",
      "source": [
        "my_conn.execute('''\n",
        "INSERT INTO `STLVT`\n",
        "(`License Number`, `Level`, `Qualification Date`,`Certifying Authority`) VALUES\n",
        "('qqq11-17-174133-0',3, '2019-10-13','Local Police Station'),\n",
        "('qqq12-15-250149-01',1, '2020-03-23','Foreign Police Station');\n",
        "''')"
      ],
      "metadata": {
        "colab": {
          "base_uri": "https://localhost:8080/"
        },
        "id": "uJDDTOp5i3Sh",
        "outputId": "23da6e91-6d6f-4b54-9331-4963a9292303"
      },
      "execution_count": 41,
      "outputs": [
        {
          "output_type": "execute_result",
          "data": {
            "text/plain": [
              "<sqlalchemy.engine.cursor.LegacyCursorResult at 0x7f3c51fe09d0>"
            ]
          },
          "metadata": {},
          "execution_count": 41
        }
      ]
    },
    {
      "cell_type": "code",
      "source": [
        "r_set=my_conn.execute('''SELECT * from 'STLVT' ''');\n",
        "for row in r_set:\n",
        "  print(row)"
      ],
      "metadata": {
        "colab": {
          "base_uri": "https://localhost:8080/"
        },
        "id": "D84I8uQ_jX-P",
        "outputId": "dcd8e787-e83b-4d31-9bc9-179eb4961eeb"
      },
      "execution_count": 42,
      "outputs": [
        {
          "output_type": "stream",
          "name": "stdout",
          "text": [
            "('qqq11-17-174133-0', 3, '2019-10-13', 'Local Police Station')\n",
            "('qqq12-15-250149-01', 1, '2020-03-23', 'Foreign Police Station')\n"
          ]
        }
      ]
    },
    {
      "cell_type": "code",
      "source": [
        "r_set=my_conn.execute('''\n",
        "CREATE TABLE `Location` (\n",
        "\t`Booking Number`\tINT\tNOT NULL,\n",
        "\t`Pick_UP_Location`\tVARCHAR(40)\tNULL,\n",
        "\t`Drops_Off_Location`\tVARCHAR(40)\tNULL,\n",
        "\t`Location_Type`\tVARCHAR(10)\tNULL,\n",
        "  PRIMARY KEY (`Booking Number`)\n",
        "   FOREIGN KEY (`Booking Number`)\n",
        "  REFERENCES `Booking Service` (`Booking Number`)\n",
        ");\n",
        " ''')"
      ],
      "metadata": {
        "id": "XK3-8GPpje9c"
      },
      "execution_count": 44,
      "outputs": []
    },
    {
      "cell_type": "code",
      "source": [
        "my_conn.execute('''\n",
        "INSERT INTO `Location`\n",
        "(`Booking Number`, `Pick_UP_Location`, `Drops_Off_Location`, `Location_Type`) VALUES\n",
        "(1, 'Incheon International Airport', 'Yonsei University', 'University'),\n",
        "(2, 'Wolmido','Incheon International Airport', 'Airport'),\n",
        "(3, 'Songdo','Woninjae','Station');\n",
        "''')"
      ],
      "metadata": {
        "colab": {
          "base_uri": "https://localhost:8080/"
        },
        "id": "lbvy5x0dj1Gs",
        "outputId": "0b904718-47ba-4d7a-f189-b24cd90eab58"
      },
      "execution_count": 46,
      "outputs": [
        {
          "output_type": "execute_result",
          "data": {
            "text/plain": [
              "<sqlalchemy.engine.cursor.LegacyCursorResult at 0x7f3c51f891d0>"
            ]
          },
          "metadata": {},
          "execution_count": 46
        }
      ]
    },
    {
      "cell_type": "code",
      "source": [
        "r_set=my_conn.execute('''SELECT * from 'Location' ''');\n",
        "for row in r_set:\n",
        "  print(row)"
      ],
      "metadata": {
        "colab": {
          "base_uri": "https://localhost:8080/"
        },
        "id": "fBspjmUplf1J",
        "outputId": "f34e7239-8873-4b40-a928-a155ca1635b7"
      },
      "execution_count": 47,
      "outputs": [
        {
          "output_type": "stream",
          "name": "stdout",
          "text": [
            "(1, 'Incheon International Airport', 'Yonsei University', 'University')\n",
            "(2, 'Wolmido', 'Incheon International Airport', 'Airport')\n",
            "(3, 'Songdo', 'Woninjae', 'Station')\n"
          ]
        }
      ]
    },
    {
      "cell_type": "code",
      "source": [
        "r_set=my_conn.execute('''\n",
        "CREATE TABLE `Date and Odometer` (\n",
        "\t`Booking Number`\tINT\tNOT NULL,\n",
        "\t`Start_Date_Time`\tDATETIME\tNULL,\n",
        "\t`End_Date_Time`\tDATETIME\tNULL,\n",
        "\t`Start_Odometer`\tINT\tNULL,\n",
        "\t`End_Odometer`\tINT\tNULL,\n",
        "  PRIMARY KEY (`Booking Number`)\n",
        "  FOREIGN KEY (`Booking Number`)\n",
        "  REFERENCES `Booking Service` (`Booking Number`)\n",
        ");\n",
        " ''')"
      ],
      "metadata": {
        "id": "3BVCTUnvljPD"
      },
      "execution_count": 48,
      "outputs": []
    },
    {
      "cell_type": "code",
      "source": [
        "my_conn.execute('''\n",
        "INSERT INTO `Date and Odometer`\n",
        "(`Booking Number`, `Start_Date_Time`, `End_Date_Time`, `Start_Odometer`, `End_Odometer`) VALUES\n",
        "(1, '2022-08-09 08:00:00', '2022-08-09 10:00:00', 4569,5500),\n",
        "(2, '2022-08-06 21:00:00', '2022-08-06 22:25:00', 8725,9210),\n",
        "(3, '2022-07-24 12:00:00', '2022-07-24 12:30:00',519,601);\n",
        "''')"
      ],
      "metadata": {
        "colab": {
          "base_uri": "https://localhost:8080/"
        },
        "id": "EKYfscBIl-Al",
        "outputId": "71fcc18c-de6e-4beb-c1ee-179fcc30eaeb"
      },
      "execution_count": 52,
      "outputs": [
        {
          "output_type": "execute_result",
          "data": {
            "text/plain": [
              "<sqlalchemy.engine.cursor.LegacyCursorResult at 0x7f3c51fd2b10>"
            ]
          },
          "metadata": {},
          "execution_count": 52
        }
      ]
    },
    {
      "cell_type": "code",
      "source": [
        "r_set=my_conn.execute('''SELECT * from 'Date and Odometer' ''');\n",
        "for row in r_set:\n",
        "  print(row)"
      ],
      "metadata": {
        "colab": {
          "base_uri": "https://localhost:8080/"
        },
        "id": "gYW0FT4fnQIR",
        "outputId": "d066a905-1557-49c3-8fcf-340567792afd"
      },
      "execution_count": 53,
      "outputs": [
        {
          "output_type": "stream",
          "name": "stdout",
          "text": [
            "(1, '2022-08-09 08:00:00', '2022-08-09 10:00:00', 4569, 5500)\n",
            "(2, '2022-08-06 21:00:00', '2022-08-06 22:25:00', 8725, 9210)\n",
            "(3, '2022-07-24 12:00:00', '2022-07-24 12:30:00', 519, 601)\n"
          ]
        }
      ]
    },
    {
      "cell_type": "code",
      "source": [
        "r_set=my_conn.execute('''\n",
        "CREATE TABLE `Booking Service` (\n",
        "\t`Booking Number`\tINT\tNOT NULL,\n",
        "\t`Flag`\tCHAR(1)\tNOT NULL,\n",
        "\t`Vehicle Id`\tVARCHAR(10)\tNOT NULL,\n",
        "\t`License Number`\tVARCHAR(18)\tNOT NULL,\n",
        "  PRIMARY KEY (`Booking Number`)\n",
        ");\n",
        " ''')"
      ],
      "metadata": {
        "id": "N2GwZ9xOnU8y"
      },
      "execution_count": 54,
      "outputs": []
    },
    {
      "cell_type": "code",
      "source": [
        "my_conn.execute('''\n",
        "INSERT INTO `Booking Service`\n",
        "(`Booking Number`, `Flag`, `Vehicle Id`, `License Number`) VALUES\n",
        "(1, 'Y',  'V1002', 'qqq11-17-174133-01'),\n",
        "(2, 'Y', 'V1003', 'qqq12-15-250149-01');\n",
        "''')"
      ],
      "metadata": {
        "colab": {
          "base_uri": "https://localhost:8080/"
        },
        "id": "qWXPF2RBnptB",
        "outputId": "5030d277-cbf5-4a51-d31d-8d12f14ec40c"
      },
      "execution_count": 55,
      "outputs": [
        {
          "output_type": "execute_result",
          "data": {
            "text/plain": [
              "<sqlalchemy.engine.cursor.LegacyCursorResult at 0x7f3c51508b90>"
            ]
          },
          "metadata": {},
          "execution_count": 55
        }
      ]
    },
    {
      "cell_type": "code",
      "source": [
        "r_set=my_conn.execute('''SELECT * from 'Booking Service' ''');\n",
        "for row in r_set:\n",
        "  print(row)"
      ],
      "metadata": {
        "colab": {
          "base_uri": "https://localhost:8080/"
        },
        "id": "zE3r4ldepkKY",
        "outputId": "9f3ff3ca-e573-4367-dafd-1c166ed63970"
      },
      "execution_count": 56,
      "outputs": [
        {
          "output_type": "stream",
          "name": "stdout",
          "text": [
            "(1, 'Y', 'V1002', 'qqq11-17-174133-01')\n",
            "(2, 'Y', 'V1003', 'qqq12-15-250149-01')\n"
          ]
        }
      ]
    }
  ]
}